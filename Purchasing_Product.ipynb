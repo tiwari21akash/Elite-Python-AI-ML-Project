{
 "cells": [
  {
   "cell_type": "code",
   "execution_count": 4,
   "id": "cd3eeea2",
   "metadata": {},
   "outputs": [
    {
     "name": "stdout",
     "output_type": "stream",
     "text": [
      "Press: 0  For Showing All Product List.\n",
      "\n",
      "Press: 1 For Purchase.\n",
      "\n",
      "Press: 2 For Check bill through bill_no\n",
      "\n",
      "Press: 3  For Exit.\n",
      "\n",
      "2\n",
      "Enter bill no. :- \n",
      "514\n",
      "------------------------------------------------------------\n",
      "\t\t\t-:Your Bill:-\n",
      "------------------------------------------------------------\n",
      "  Bill No.:- 514\t\t\t\tDate:-2021-09-06\n",
      "------------------------------------------------------------\n",
      " Transaction Time:- 10:58:41.897351\n",
      "\n",
      "\tProduct Id :- \t\t30\n",
      "\tProduct Name :- \tFevecool 10ml\n",
      "\tselect Quantity :- \t5\n",
      "\tPrice :- \t\t13\n",
      "------------------------------------------------------------\n",
      "\tTotal Amount :- \t65\n",
      "------------------------------------------------------------\n",
      "Press: 0  For Showing All Product List.\n",
      "\n",
      "Press: 1 For Purchase.\n",
      "\n",
      "Press: 2 For Check bill through bill_no\n",
      "\n",
      "Press: 3  For Exit.\n",
      "\n"
     ]
    },
    {
     "ename": "KeyboardInterrupt",
     "evalue": "Interrupted by user",
     "output_type": "error",
     "traceback": [
      "\u001b[1;31m---------------------------------------------------------------------------\u001b[0m",
      "\u001b[1;31mKeyboardInterrupt\u001b[0m                         Traceback (most recent call last)",
      "\u001b[1;32m<ipython-input-4-18e23336e38f>\u001b[0m in \u001b[0;36m<module>\u001b[1;34m\u001b[0m\n\u001b[0;32m     19\u001b[0m     \u001b[0mprint\u001b[0m\u001b[1;33m(\u001b[0m\u001b[1;34m\"Press: 2 For Check bill through bill_no\\n\"\u001b[0m\u001b[1;33m)\u001b[0m\u001b[1;33m\u001b[0m\u001b[1;33m\u001b[0m\u001b[0m\n\u001b[0;32m     20\u001b[0m     \u001b[0mprint\u001b[0m\u001b[1;33m(\u001b[0m\u001b[1;34m\"Press: 3  For Exit.\\n\"\u001b[0m\u001b[1;33m)\u001b[0m\u001b[1;33m\u001b[0m\u001b[1;33m\u001b[0m\u001b[0m\n\u001b[1;32m---> 21\u001b[1;33m     \u001b[0mx\u001b[0m\u001b[1;33m=\u001b[0m\u001b[0mint\u001b[0m\u001b[1;33m(\u001b[0m\u001b[0minput\u001b[0m\u001b[1;33m(\u001b[0m\u001b[1;34m\"\"\u001b[0m\u001b[1;33m)\u001b[0m\u001b[1;33m)\u001b[0m\u001b[1;33m\u001b[0m\u001b[1;33m\u001b[0m\u001b[0m\n\u001b[0m\u001b[0;32m     22\u001b[0m     \u001b[1;32mif\u001b[0m\u001b[1;33m(\u001b[0m\u001b[0mx\u001b[0m\u001b[1;33m==\u001b[0m\u001b[1;36m0\u001b[0m\u001b[1;33m)\u001b[0m\u001b[1;33m:\u001b[0m\u001b[1;33m\u001b[0m\u001b[1;33m\u001b[0m\u001b[0m\n\u001b[0;32m     23\u001b[0m         \u001b[0mprint\u001b[0m\u001b[1;33m(\u001b[0m\u001b[1;34m\"******\"\u001b[0m\u001b[1;33m*\u001b[0m\u001b[1;36m15\u001b[0m\u001b[1;33m)\u001b[0m\u001b[1;33m\u001b[0m\u001b[1;33m\u001b[0m\u001b[0m\n",
      "\u001b[1;32m~\\anaconda3\\lib\\site-packages\\ipykernel\\kernelbase.py\u001b[0m in \u001b[0;36mraw_input\u001b[1;34m(self, prompt)\u001b[0m\n\u001b[0;32m    858\u001b[0m                 \u001b[1;34m\"raw_input was called, but this frontend does not support input requests.\"\u001b[0m\u001b[1;33m\u001b[0m\u001b[1;33m\u001b[0m\u001b[0m\n\u001b[0;32m    859\u001b[0m             )\n\u001b[1;32m--> 860\u001b[1;33m         return self._input_request(str(prompt),\n\u001b[0m\u001b[0;32m    861\u001b[0m             \u001b[0mself\u001b[0m\u001b[1;33m.\u001b[0m\u001b[0m_parent_ident\u001b[0m\u001b[1;33m,\u001b[0m\u001b[1;33m\u001b[0m\u001b[1;33m\u001b[0m\u001b[0m\n\u001b[0;32m    862\u001b[0m             \u001b[0mself\u001b[0m\u001b[1;33m.\u001b[0m\u001b[0m_parent_header\u001b[0m\u001b[1;33m,\u001b[0m\u001b[1;33m\u001b[0m\u001b[1;33m\u001b[0m\u001b[0m\n",
      "\u001b[1;32m~\\anaconda3\\lib\\site-packages\\ipykernel\\kernelbase.py\u001b[0m in \u001b[0;36m_input_request\u001b[1;34m(self, prompt, ident, parent, password)\u001b[0m\n\u001b[0;32m    902\u001b[0m             \u001b[1;32mexcept\u001b[0m \u001b[0mKeyboardInterrupt\u001b[0m\u001b[1;33m:\u001b[0m\u001b[1;33m\u001b[0m\u001b[1;33m\u001b[0m\u001b[0m\n\u001b[0;32m    903\u001b[0m                 \u001b[1;31m# re-raise KeyboardInterrupt, to truncate traceback\u001b[0m\u001b[1;33m\u001b[0m\u001b[1;33m\u001b[0m\u001b[1;33m\u001b[0m\u001b[0m\n\u001b[1;32m--> 904\u001b[1;33m                 \u001b[1;32mraise\u001b[0m \u001b[0mKeyboardInterrupt\u001b[0m\u001b[1;33m(\u001b[0m\u001b[1;34m\"Interrupted by user\"\u001b[0m\u001b[1;33m)\u001b[0m \u001b[1;32mfrom\u001b[0m \u001b[1;32mNone\u001b[0m\u001b[1;33m\u001b[0m\u001b[1;33m\u001b[0m\u001b[0m\n\u001b[0m\u001b[0;32m    905\u001b[0m             \u001b[1;32mexcept\u001b[0m \u001b[0mException\u001b[0m \u001b[1;32mas\u001b[0m \u001b[0me\u001b[0m\u001b[1;33m:\u001b[0m\u001b[1;33m\u001b[0m\u001b[1;33m\u001b[0m\u001b[0m\n\u001b[0;32m    906\u001b[0m                 \u001b[0mself\u001b[0m\u001b[1;33m.\u001b[0m\u001b[0mlog\u001b[0m\u001b[1;33m.\u001b[0m\u001b[0mwarning\u001b[0m\u001b[1;33m(\u001b[0m\u001b[1;34m\"Invalid Message:\"\u001b[0m\u001b[1;33m,\u001b[0m \u001b[0mexc_info\u001b[0m\u001b[1;33m=\u001b[0m\u001b[1;32mTrue\u001b[0m\u001b[1;33m)\u001b[0m\u001b[1;33m\u001b[0m\u001b[1;33m\u001b[0m\u001b[0m\n",
      "\u001b[1;31mKeyboardInterrupt\u001b[0m: Interrupted by user"
     ]
    }
   ],
   "source": [
    "import json\n",
    "import random\n",
    "from datetime import datetime\n",
    "\n",
    "Entry=True\n",
    "while(Entry):\n",
    "    fd=open('prodlist.json','r')\n",
    "    r=fd.read()\n",
    "    fd.close()\n",
    "    record=json.loads(r)\n",
    "\n",
    "    fd1=open('sales.json','r')\n",
    "    rs=fd1.read()\n",
    "    fd1.close()\n",
    "    sales_record=json.loads(rs)\n",
    "    \n",
    "    print(\"Press: 0  For Showing All Product List.\\n\")\n",
    "    print(\"Press: 1 For Purchase.\\n\")\n",
    "    print(\"Press: 2 For Check bill through bill_no\\n\")\n",
    "    print(\"Press: 3  For Exit.\\n\")\n",
    "    x=int(input(\"\"))\n",
    "    if(x==0):\n",
    "        print(\"******\"*15)\n",
    "        print(\"\\tProduct_id\\tProduct_name\\tProduct_Quantity\\tPrice\")\n",
    "        print(\"******\"*15)\n",
    "        for i in record.keys():\n",
    "            print(f\"\\t{i}\\t\\t{record[i]['product_name']}\\t\\t{record[i]['product_quantity']}\\t\\t{record[i]['product_price']}\\n\")\n",
    "   \n",
    "    if(x==1):\n",
    "        a=True\n",
    "        while(a):\n",
    "            present=0\n",
    "            prod_id  = str(input(\"Enter the product_Id: \"))\n",
    "            for i in record.keys():\n",
    "                if(prod_id==i):\n",
    "                    quant_check=True\n",
    "                    while(quant_check):\n",
    "                        prod_quant = int(input(\"Enter the quantity: \"))\n",
    "                        if(record[i]['product_quantity']>=prod_quant):\n",
    "                            present=1\n",
    "                            quant_check=False\n",
    "                            #bill id\n",
    "                            bill_id_check=True\n",
    "                            B_id=1000\n",
    "                            while(bill_id_check):\n",
    "                                n=random.randint(100,999)\n",
    "                                Bill_found=False\n",
    "                                for j in sales_record.keys():\n",
    "                                    if(j==n):\n",
    "                                        Bill_found=True\n",
    "                                if(not Bill_found):\n",
    "                                    B_id=n\n",
    "                                    bill_id_check=False\n",
    "                            #date\n",
    "                            today = datetime.now()\n",
    "                            date_time=(str(today)).split(\" \")\n",
    "                            #bill genrate  record[i]['product_name']\n",
    "                            print(\"----\"*15)\n",
    "                            print(\"\\t\\t\\t-:Your Bill:-\")\n",
    "                            print(\"----\"*15)\n",
    "                            print(f\"  Bill No.:- {n}\\t\\t\\t\\tDate:-{date_time[0]}\")\n",
    "                            print(\"----\"*15)\n",
    "                            print(f\"\\n\\tProduct Id :- \\t\\t{prod_id}\")\n",
    "                            print(f\"\\tProduct Name :- \\t{record[prod_id]['product_name']}\")\n",
    "                            print(f\"\\tselect Quantity :- \\t{prod_quant}\")\n",
    "                            print(f\"\\tPrice :- \\t\\t{record[prod_id]['product_price']}\")\n",
    "                            print(\"----\"*15)\n",
    "                            print(f\"\\tTotal Amount :- \\t{record[prod_id]['product_price']*prod_quant}\")\n",
    "                            print(\"----\"*15)\n",
    "\n",
    "                            fd=open('sales.json','w')\n",
    "                            sales_record[B_id]={'date' : date_time[0], 'Time' : date_time[1], 'Bill_No' : B_id,'Product_Id':prod_id,'Product_name':record[prod_id]['product_name'],'Product_quantity':prod_quant,'Product_price':record[prod_id]['product_price'],'Total_Amount':record[prod_id]['product_price']*prod_quant}\n",
    "                            fd.write(json.dumps(sales_record))\n",
    "                            fd.close()\n",
    "\n",
    "\n",
    "                            fd = open(\"prodlist.json\",'w')\n",
    "                            record[prod_id]['product_quantity']=record[prod_id]['product_quantity']-int(prod_quant)\n",
    "                            fd.write(json.dumps(record))\n",
    "                            fd.close()\n",
    "                            \n",
    "                            a=False\n",
    "                        else:\n",
    "                            print(f\"Sorry only {record[i]['product_quantity']} quantiy are present \")\n",
    "                            z=int(input(\"Press 1 for re-enter Quantity\\nPress 2 for exit\\n\"))\n",
    "                            if(z==2):\n",
    "                                quant_check=False\n",
    "                                present=1\n",
    "                                a=False\n",
    "                            else:\n",
    "                                continue;\n",
    "\n",
    "            if(present==0):\n",
    "                print(f\"product Id {prod_id} is Not pressent\\n\")\n",
    "                print(\"Please Re-enter Product Id:\")\n",
    "\n",
    "    if(x==2):\n",
    "        bill_no=input(\"Enter bill no. :- \\n\")\n",
    "        if(bill_no in sales_record.keys()):\n",
    "            print(\"----\"*15)\n",
    "            print(\"\\t\\t\\t-:Your Bill:-\")\n",
    "            print(\"----\"*15)\n",
    "            print(f\"  Bill No.:- {bill_no}\\t\\t\\t\\tDate:-{sales_record[bill_no]['date']}\")\n",
    "            print(\"----\"*15)\n",
    "            print(f\" Transaction Time:- {sales_record[bill_no]['Time']}\")\n",
    "            print(f\"\\n\\tProduct Id :- \\t\\t{sales_record[bill_no]['Product_Id']}\")\n",
    "            print(f\"\\tProduct Name :- \\t{sales_record[bill_no]['Product_name']}\")\n",
    "            print(f\"\\tselect Quantity :- \\t{sales_record[bill_no]['Product_quantity']}\")\n",
    "            print(f\"\\tPrice :- \\t\\t{sales_record[bill_no]['Product_price']}\")\n",
    "            print(\"----\"*15)\n",
    "            print(f\"\\tTotal Amount :- \\t{sales_record[bill_no]['Total_Amount']}\")\n",
    "            print(\"----\"*15)\n",
    "    if(x==3):\n",
    "        print(\"\\t\\t\\t\\t###### Thank Youuu ######\")\n",
    "        print(\"\\t\\t\\t\\t###### Have a Nice day ######\")\n",
    "        Entry=False\n",
    "  "
   ]
  },
  {
   "cell_type": "code",
   "execution_count": 88,
   "id": "49bc467d",
   "metadata": {},
   "outputs": [
    {
     "name": "stdout",
     "output_type": "stream",
     "text": [
      "random = 100\n",
      "random = 100\n",
      "random = 101\n",
      "Bill = 101\n"
     ]
    }
   ],
   "source": [
    "'''import random\n",
    "l=[100,102]\n",
    "bill_id_check=True\n",
    "B_id=1000\n",
    "while(bill_id_check):\n",
    "    n=random.randint(100,101)\n",
    "    Bill_found=False\n",
    "    print(\"random =\",n)\n",
    "    for j in l:\n",
    "        if(j==n):\n",
    "            Bill_found=True\n",
    "            break;\n",
    "    if(not Bill_found):\n",
    "        B_id=n\n",
    "        bill_id_check=False\n",
    "print(\"Bill =\",B_id)'''"
   ]
  },
  {
   "cell_type": "code",
   "execution_count": 29,
   "id": "633df190",
   "metadata": {},
   "outputs": [
    {
     "name": "stdout",
     "output_type": "stream",
     "text": [
      "144\n"
     ]
    }
   ],
   "source": [
    "'''import random\n",
    "n=random.randint(100,201)\n",
    "print(n)'''"
   ]
  },
  {
   "cell_type": "code",
   "execution_count": 21,
   "id": "083b6968",
   "metadata": {},
   "outputs": [
    {
     "name": "stdout",
     "output_type": "stream",
     "text": [
      "Date : 2021-09-03 \t Time : 23:09:14.666137\n"
     ]
    }
   ],
   "source": [
    "'''from datetime import datetime\n",
    "today = datetime.now()\n",
    "date_time=(str(today)).split(\" \")\n",
    "print(f\"Date : {date_time[0]} \\t Time : {date_time[1]}\")'''"
   ]
  },
  {
   "cell_type": "code",
   "execution_count": 1,
   "id": "6358493f",
   "metadata": {},
   "outputs": [],
   "source": [
    "'''import json\n",
    "fd1=open('sales.json','w')\n",
    "data={'1006':{'First Entry' : 'run time'}}\n",
    "fd1.write(json.dumps(data))\n",
    "fd1.close()'''"
   ]
  },
  {
   "cell_type": "code",
   "execution_count": 3,
   "id": "615f22a4",
   "metadata": {},
   "outputs": [
    {
     "name": "stdout",
     "output_type": "stream",
     "text": [
      "{'1005': {'First Entry': 'run time'}}\n"
     ]
    },
    {
     "data": {
      "text/plain": [
       "dict"
      ]
     },
     "execution_count": 3,
     "metadata": {},
     "output_type": "execute_result"
    }
   ],
   "source": [
    "'''import json\n",
    "fd=open('sales.json','r')\n",
    "r=fd.read()\n",
    "fd.close()\n",
    "record=json.loads(r)\n",
    "print(record)\n",
    "type(record)\n",
    "record[]'''"
   ]
  },
  {
   "cell_type": "code",
   "execution_count": null,
   "id": "d4b94b2b",
   "metadata": {},
   "outputs": [],
   "source": []
  }
 ],
 "metadata": {
  "kernelspec": {
   "display_name": "Python 3",
   "language": "python",
   "name": "python3"
  },
  "language_info": {
   "codemirror_mode": {
    "name": "ipython",
    "version": 3
   },
   "file_extension": ".py",
   "mimetype": "text/x-python",
   "name": "python",
   "nbconvert_exporter": "python",
   "pygments_lexer": "ipython3",
   "version": "3.8.8"
  }
 },
 "nbformat": 4,
 "nbformat_minor": 5
}
